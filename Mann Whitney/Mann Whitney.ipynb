{
 "cells": [
  {
   "cell_type": "markdown",
   "metadata": {},
   "source": [
    "# David Brookes\n",
    "\n",
    "# March 2022"
   ]
  },
  {
   "cell_type": "markdown",
   "metadata": {},
   "source": [
    "# Mann Whitney Test (U Test)"
   ]
  },
  {
   "cell_type": "markdown",
   "metadata": {},
   "source": [
    "# Task achieved using:\n",
    "# 1. Simple python commands\n",
    "# 2. Library software"
   ]
  },
  {
   "cell_type": "code",
   "execution_count": 1,
   "metadata": {},
   "outputs": [],
   "source": [
    "# This is a non-parametric version of the two sample t test.\n",
    "# Used to determine if two samples appear to come from the same population or that they are\n",
    "# significantly different.\n",
    "# The data is assumed to be continuous.\n",
    "#\n",
    "# The procedure is as follows:\n",
    "# 1. Combine all samples into one array from smallest to largest (assume there are no tied results).\n",
    "# 2. Assign ranks to the data i.e. 1 (smallest), 2, 3, ... n (largest).\n",
    "# 3. Find the sum of the ranks for each of the samples, denoted by R1 and R2, where N1 and N2 are\n",
    "# the respective sample sizes. Choose N1 such that N1<=N2.\n",
    "# 4. Calculate the test statistic:"
   ]
  },
  {
   "cell_type": "markdown",
   "metadata": {},
   "source": [
    "$U = N_1 N_2 + \\frac{N_1(N_1+1)}{2} - R_1$"
   ]
  },
  {
   "cell_type": "code",
   "execution_count": 2,
   "metadata": {},
   "outputs": [],
   "source": [
    "# corresponding to sample 1.\n",
    "# The sampling distribution is symmetric, and it is possible to show that the\n",
    "# mean and variance if the distribution of U is given by:"
   ]
  },
  {
   "cell_type": "markdown",
   "metadata": {},
   "source": [
    "$\\mu_U = \\frac{N_1 N_2}{2}$ and $\\sigma_U^2=\\frac{N_1N_2(N_1+N_2+1)}{12}$"
   ]
  },
  {
   "cell_type": "code",
   "execution_count": 3,
   "metadata": {},
   "outputs": [],
   "source": [
    "# See the following web page for the proof of this.\n",
    "# https://www.real-statistics.com/non-parametric-tests/wilcoxon-rank-sum-test/wilcoxon-rank-sum-test-advanced/"
   ]
  },
  {
   "cell_type": "code",
   "execution_count": 4,
   "metadata": {},
   "outputs": [],
   "source": [
    "# It can also be shown that for N1+N2 > 20 that U is approximately normal so that:"
   ]
  },
  {
   "cell_type": "markdown",
   "metadata": {},
   "source": [
    "$Z=\\frac{U-\\mu_U}{\\sigma_U}$"
   ]
  },
  {
   "cell_type": "code",
   "execution_count": 5,
   "metadata": {},
   "outputs": [],
   "source": [
    "# is normally distributed with mean 0 and variance 1.\n",
    "# Hence the usual tests of significance can be carried out"
   ]
  },
  {
   "cell_type": "code",
   "execution_count": 6,
   "metadata": {},
   "outputs": [],
   "source": [
    "import numpy as np"
   ]
  },
  {
   "cell_type": "code",
   "execution_count": 7,
   "metadata": {},
   "outputs": [],
   "source": [
    "# Set random seed.\n",
    "np.random.seed(1)"
   ]
  },
  {
   "cell_type": "code",
   "execution_count": 8,
   "metadata": {},
   "outputs": [
    {
     "name": "stdout",
     "output_type": "stream",
     "text": [
      "mean_sample_ideal_1  200\n",
      "sd_sample_ideal_1  30\n",
      "mean_sample_ideal_2  220\n",
      "sd_sample_ideal_2  40\n"
     ]
    }
   ],
   "source": [
    "# Generate two groups of random samples.\n",
    "# (This is the same data as generated in the two sample t test program).\n",
    "\n",
    "mean_sample_ideal_1 = 200\n",
    "sd_sample_ideal_1 = 30\n",
    "size_sample_1 = 30\n",
    "\n",
    "mean_sample_ideal_2 = 220\n",
    "sd_sample_ideal_2 = 40\n",
    "size_sample_2 = 50\n",
    "\n",
    "group_1 = np.random.normal(loc=mean_sample_ideal_1, scale=sd_sample_ideal_1, size=size_sample_1)\n",
    "group_2 = np.random.normal(loc=mean_sample_ideal_2, scale=sd_sample_ideal_2, size=size_sample_2)\n",
    "\n",
    "print('mean_sample_ideal_1 ', mean_sample_ideal_1)\n",
    "print('sd_sample_ideal_1 ',sd_sample_ideal_1) # Unbiased estimate.\n",
    "print('mean_sample_ideal_2 ', mean_sample_ideal_2)\n",
    "print('sd_sample_ideal_2 ',sd_sample_ideal_2) # Unbiased estimate."
   ]
  },
  {
   "cell_type": "code",
   "execution_count": 9,
   "metadata": {},
   "outputs": [],
   "source": [
    "# Sample 1 has the smaller number of samples, therefore N1=30 and N2=50."
   ]
  },
  {
   "cell_type": "code",
   "execution_count": 10,
   "metadata": {},
   "outputs": [
    {
     "name": "stdout",
     "output_type": "stream",
     "text": [
      "R1 =  909\n",
      "R2 =  2331\n"
     ]
    }
   ],
   "source": [
    "# Calculate the rank sum.\n",
    "group_3 = np.concatenate([group_1, group_2])\n",
    "sort_index_3 = np.argsort(group_3)\n",
    "\n",
    "R1 = 0\n",
    "R2 = 0\n",
    "for i in range(len(sort_index_3)):\n",
    "    if sort_index_3[i] < len(group_1):\n",
    "        R1 += i+1\n",
    "    else:\n",
    "        R2 += i+1\n",
    "        \n",
    "print('R1 = ', R1)\n",
    "print('R2 = ', R2)"
   ]
  },
  {
   "cell_type": "code",
   "execution_count": 11,
   "metadata": {},
   "outputs": [
    {
     "name": "stdout",
     "output_type": "stream",
     "text": [
      "U =  1056.0\n"
     ]
    }
   ],
   "source": [
    "# Calculate the U statistic.\n",
    "\n",
    "N1 = size_sample_1\n",
    "N2 = size_sample_2\n",
    "\n",
    "U = N1*N2 + 0.5*N1*(N1+1) - R1\n",
    "\n",
    "print('U = ', U)"
   ]
  },
  {
   "cell_type": "code",
   "execution_count": 12,
   "metadata": {},
   "outputs": [
    {
     "name": "stdout",
     "output_type": "stream",
     "text": [
      "Z =  3.041052449399714\n"
     ]
    }
   ],
   "source": [
    "# Calculate mean and standard deviation of U.\n",
    "\n",
    "mu_U =  0.5*N1*N2\n",
    "std_U = np.sqrt(N1*N2*(N1+N2+1)/ 12.0)\n",
    "\n",
    "# Calculate the Z statistic.\n",
    "\n",
    "Z = (U-mu_U)/std_U\n",
    "print('Z = ', Z)"
   ]
  },
  {
   "cell_type": "code",
   "execution_count": 17,
   "metadata": {},
   "outputs": [
    {
     "name": "stdout",
     "output_type": "stream",
     "text": [
      "p_value = 0.002358\n"
     ]
    }
   ],
   "source": [
    "# To find the p value it is necessary to calculate areas\n",
    "# under the Z distribution curve.\n",
    "# I'm going to use the SciPy library here to save time,\n",
    "# rather performing numerical integration!\n",
    "\n",
    "# Find p-value for a two-tailed test.\n",
    "\n",
    "import scipy.stats\n",
    "\n",
    "p_value = scipy.stats.norm.sf(abs(Z))*2\n",
    "\n",
    "print('p_value = %.6f' % p_value)"
   ]
  },
  {
   "cell_type": "markdown",
   "metadata": {},
   "source": [
    "# Performing a Mann Whitney U Test with SciPy.stats Library"
   ]
  },
  {
   "cell_type": "code",
   "execution_count": 14,
   "metadata": {},
   "outputs": [
    {
     "name": "stdout",
     "output_type": "stream",
     "text": [
      "The U statistic is 1056.000000 and the p-value is 0.002397.\n"
     ]
    }
   ],
   "source": [
    "from scipy.stats import mannwhitneyu\n",
    "mann_whitney_results = mannwhitneyu(group_2, group_1, alternative='two-sided')\n",
    "\n",
    "print(\"The U statistic is %.6f and the p-value is %.6f.\" % mann_whitney_results)"
   ]
  },
  {
   "cell_type": "markdown",
   "metadata": {},
   "source": [
    "# ROUGH WORK BELOW"
   ]
  },
  {
   "cell_type": "code",
   "execution_count": 15,
   "metadata": {},
   "outputs": [
    {
     "name": "stdout",
     "output_type": "stream",
     "text": [
      "<class 'numpy.ndarray'>\n",
      "sample_1: [ 1  9  5 13]\n",
      "<class 'numpy.ndarray'>\n",
      "sample_2: [18  8  2 10]\n",
      "<class 'numpy.ndarray'>\n",
      "sample_3: [ 1  9  5 13 18  8  2 10]\n",
      "<class 'numpy.ndarray'>\n",
      "sort_index_1: [0 2 1 3]\n",
      "sort_sample_3: [ 1  2  5  8  9 10 13 18]\n",
      "sort_index_3: [0 6 2 5 1 7 3 4]\n"
     ]
    }
   ],
   "source": [
    "# Calculating the rank sum.\n",
    "\n",
    "import numpy as np\n",
    "\n",
    "sample_1 = np.array([1, 9, 5, 13])\n",
    "sample_2 = np.array([18, 8, 2, 10])\n",
    "sample_3 = np.concatenate([sample_1, sample_2]) \n",
    "\n",
    "print(type(sample_1))\n",
    "print('sample_1:', sample_1)\n",
    "print(type(sample_2))\n",
    "print('sample_2:', sample_2)\n",
    "print(type(sample_3))\n",
    "print('sample_3:', sample_3)\n",
    "sort_index_1 = np.argsort(sample_1)\n",
    "print(type(sort_index_1))\n",
    "print('sort_index_1:', sort_index_1)\n",
    "\n",
    "sort_sample_3 = np.sort(sample_3)\n",
    "print('sort_sample_3:', sort_sample_3)\n",
    "\n",
    "sort_index_3 = np.argsort(sample_3)\n",
    "print('sort_index_3:', sort_index_3)\n",
    "\n"
   ]
  },
  {
   "cell_type": "code",
   "execution_count": 16,
   "metadata": {},
   "outputs": [
    {
     "name": "stdout",
     "output_type": "stream",
     "text": [
      "R1 =  16\n",
      "R2 =  20\n"
     ]
    }
   ],
   "source": [
    "R1 = 0\n",
    "R2 = 0\n",
    "for i in range(len(sort_index_3)):\n",
    "    if sort_index_3[i] < len(sample_1):\n",
    "        R1 += i+1\n",
    "    else:\n",
    "        R2 += i+1\n",
    "print('R1 = ', R1)\n",
    "print('R2 = ', R2)\n",
    "    "
   ]
  }
 ],
 "metadata": {
  "kernelspec": {
   "display_name": "Python 3",
   "language": "python",
   "name": "python3"
  },
  "language_info": {
   "codemirror_mode": {
    "name": "ipython",
    "version": 3
   },
   "file_extension": ".py",
   "mimetype": "text/x-python",
   "name": "python",
   "nbconvert_exporter": "python",
   "pygments_lexer": "ipython3",
   "version": "3.8.5"
  }
 },
 "nbformat": 4,
 "nbformat_minor": 4
}
