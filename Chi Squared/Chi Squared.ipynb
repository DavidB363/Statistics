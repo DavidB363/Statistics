{
 "cells": [
  {
   "cell_type": "markdown",
   "metadata": {},
   "source": [
    "# David Brookes\n",
    "# January 2022"
   ]
  },
  {
   "cell_type": "markdown",
   "metadata": {},
   "source": [
    "# The Chi Squared Statistical Test."
   ]
  },
  {
   "cell_type": "markdown",
   "metadata": {},
   "source": [
    "# Task achieved using:\n",
    "# 1. Simple python commands\n",
    "# 2. Library software"
   ]
  },
  {
   "cell_type": "code",
   "execution_count": 1,
   "metadata": {},
   "outputs": [],
   "source": [
    "# The Chi Squared Statistical Test.\n",
    "# Dependent variable is discrete. It is a set of events in the example given.\n",
    "# Independent variable is discrete. Individual experiments are considered here."
   ]
  },
  {
   "cell_type": "code",
   "execution_count": 2,
   "metadata": {},
   "outputs": [],
   "source": [
    "# Consider 5 events that can occur; A1, A2, A3, A4 and A5.\n",
    "# Hypothesise that the probabilities are p1, p2, p3, p4 and p5 respectively.\n",
    "# (Note that the sum of the p_i is 1.)"
   ]
  },
  {
   "cell_type": "code",
   "execution_count": 3,
   "metadata": {},
   "outputs": [],
   "source": [
    "# If an experiment is run n times and the number of observed\n",
    "# occurences of the events are x1, x2, x3, x4 and x5 (sum of x_i is n), is it reasonable to assume\n",
    "# that the probabilities are correct, or is there evidence that the observed frequencies are\n",
    "# significantly different from those expected?"
   ]
  },
  {
   "cell_type": "code",
   "execution_count": 4,
   "metadata": {},
   "outputs": [],
   "source": [
    "import numpy as np\n",
    "\n",
    "np.random.seed(4) # This value of the seed has been chosen in order to\n",
    "                # give a statistically significant result (i.e small p value).\n",
    "\n",
    "from numpy import random\n",
    "\n",
    "numevents = 5 # Number of events; A1 to A5.\n",
    "\n",
    "n =100 # The number of trials with outcome one of A1 to A5.\n",
    "\n",
    "eventcounts = np.zeros(numevents)\n",
    "probabilities = np.zeros(numevents)\n",
    "expectedcounts = np.zeros(numevents)\n",
    "cumulative_probs = np.zeros(numevents)\n",
    "# print(eventcounts)\n",
    "# print(probabilities)"
   ]
  },
  {
   "cell_type": "code",
   "execution_count": 5,
   "metadata": {},
   "outputs": [
    {
     "name": "stdout",
     "output_type": "stream",
     "text": [
      "probabilities \n",
      " [0.24798872 0.14033427 0.24943878 0.18331006 0.17892817]\n"
     ]
    }
   ],
   "source": [
    "# Generate the probabilities p1 to p5.\n",
    "\n",
    "probabilities = np.random.random(numevents)\n",
    "# print(probabilities)\n",
    "\n",
    "# Normalise the probabilities.\n",
    "sum_probs = probabilities.sum()\n",
    "# print('sum_probs', sum_probs)\n",
    "probabilities = probabilities/sum_probs\n",
    "sum_probs = probabilities.sum()\n",
    "# print('sum_probs', sum_probs)\n",
    "print('probabilities \\n', probabilities)  \n",
    "\n",
    "cumulative_probs[0] = probabilities[0]\n",
    "for i in range(1,numevents):\n",
    "    cumulative_probs[i] = cumulative_probs[i-1] + probabilities[i]\n",
    "    \n",
    "# print('cumulative_probs', cumulative_probs) \n",
    "\n",
    "# Calculate the expected number of counts.\n",
    "\n",
    "expectedcounts = probabilities*n\n",
    "# print('expectedcounts ', expectedcounts)\n",
    "# print('eventcounts ',eventcounts)\n"
   ]
  },
  {
   "cell_type": "code",
   "execution_count": 6,
   "metadata": {},
   "outputs": [
    {
     "name": "stdout",
     "output_type": "stream",
     "text": [
      "eventcounts \n",
      " [22. 10. 38. 11. 19.]\n",
      "expectedcounts \n",
      " [24.79887177 14.03342672 24.94387841 18.3310064  17.8928167 ]\n"
     ]
    }
   ],
   "source": [
    "# Generate the frequencies of events; x1 to x5.\n",
    "\n",
    "for i in range(n):\n",
    "    val = np.random.random()\n",
    "    for j in range(numevents):\n",
    "        if val<cumulative_probs[j]:\n",
    "            eventcounts[j] += 1\n",
    "            #print('Event number ', j+1)\n",
    "            break\n",
    "\n",
    "print('eventcounts \\n', eventcounts)\n",
    "print('expectedcounts \\n', expectedcounts)\n",
    "#print('sum_eventcounts', eventcounts.sum())\n",
    "    "
   ]
  },
  {
   "cell_type": "code",
   "execution_count": 7,
   "metadata": {},
   "outputs": [
    {
     "name": "stdout",
     "output_type": "stream",
     "text": [
      "chi2 =  11.309347404314192\n"
     ]
    }
   ],
   "source": [
    "# Compute the chi squared statistic.\n",
    "\n",
    "chi2 = 0.0\n",
    "for i in range(numevents):\n",
    "    chi2 += ((eventcounts[i]-expectedcounts[i])**2)/expectedcounts[i]\n",
    "    \n",
    "print('chi2 = ', chi2)"
   ]
  },
  {
   "cell_type": "code",
   "execution_count": 8,
   "metadata": {},
   "outputs": [
    {
     "name": "stdout",
     "output_type": "stream",
     "text": [
      "df =  4\n"
     ]
    }
   ],
   "source": [
    "# Degrees of freedom.\n",
    "df = numevents-1\n",
    "print('df = ', df)"
   ]
  },
  {
   "cell_type": "markdown",
   "metadata": {},
   "source": [
    "# Calculating Chi Squared using the SciPy Library"
   ]
  },
  {
   "cell_type": "code",
   "execution_count": 9,
   "metadata": {},
   "outputs": [
    {
     "name": "stdout",
     "output_type": "stream",
     "text": [
      "chisq =  11.309347404314192\n",
      "p =  0.023298779960497708\n"
     ]
    }
   ],
   "source": [
    "# To calculate the p value, the easiest way is to use the scipy library.\n",
    "# scipy.stats.chisquare calculates the chi square statistic and p value.\n",
    "# Note that the number of degrees of freedom is numevents-1.\n",
    "\n",
    "from scipy.stats import chisquare\n",
    "chisq, p = chisquare(eventcounts, f_exp = expectedcounts)\n",
    "\n",
    "print('chisq = ', chisq)\n",
    "print('p = ', p)\n",
    "\n",
    "# Note the small p value implying that the measured data\n",
    "# is significantly different from that expected."
   ]
  },
  {
   "cell_type": "code",
   "execution_count": null,
   "metadata": {},
   "outputs": [],
   "source": []
  }
 ],
 "metadata": {
  "kernelspec": {
   "display_name": "Python 3",
   "language": "python",
   "name": "python3"
  },
  "language_info": {
   "codemirror_mode": {
    "name": "ipython",
    "version": 3
   },
   "file_extension": ".py",
   "mimetype": "text/x-python",
   "name": "python",
   "nbconvert_exporter": "python",
   "pygments_lexer": "ipython3",
   "version": "3.8.5"
  }
 },
 "nbformat": 4,
 "nbformat_minor": 4
}
