{
 "cells": [
  {
   "cell_type": "markdown",
   "metadata": {},
   "source": [
    "# David Brookes\n",
    "# January 2022"
   ]
  },
  {
   "cell_type": "markdown",
   "metadata": {},
   "source": [
    "# The Fisher Exact Statistical Test."
   ]
  },
  {
   "cell_type": "markdown",
   "metadata": {},
   "source": [
    "# Task achieved using:\n",
    "# 1. Simple python commands\n",
    "# 2. Library software."
   ]
  },
  {
   "cell_type": "code",
   "execution_count": 1,
   "metadata": {},
   "outputs": [],
   "source": [
    "# Example based on Fisher's original experiment to determine the probability\n",
    "# of being able to determine whether tea was added before milk or vice versa\n",
    "# in a series of trials."
   ]
  },
  {
   "cell_type": "code",
   "execution_count": 2,
   "metadata": {},
   "outputs": [],
   "source": [
    "import numpy as np\n",
    "\n",
    "import math as m"
   ]
  },
  {
   "cell_type": "code",
   "execution_count": 3,
   "metadata": {},
   "outputs": [
    {
     "name": "stdout",
     "output_type": "stream",
     "text": [
      "[[ 1  8]\n",
      " [13  4]]\n"
     ]
    }
   ],
   "source": [
    "# Contingency data table (2x2).\n",
    "\n",
    "a = 1\n",
    "b = 8\n",
    "c = 13\n",
    "d = 4\n",
    "\n",
    "n = a+b+c+d\n",
    "\n",
    "tea_data_original = np.array([[a,b],[c,d]])\n",
    "tea_data = tea_data_original.copy() # Noe: deep copy of array.\n",
    "\n",
    "print(tea_data)\n"
   ]
  },
  {
   "cell_type": "code",
   "execution_count": 4,
   "metadata": {},
   "outputs": [
    {
     "name": "stdout",
     "output_type": "stream",
     "text": [
      "[[4.84615385 4.15384615]\n",
      " [9.15384615 7.84615385]]\n"
     ]
    }
   ],
   "source": [
    "# Note that the expected values given random guessing are given below.\n",
    "a_exp = (a+b)*(a+c)/n\n",
    "b_exp = (a+b)*(b+d)/n\n",
    "c_exp = (a+c)*(c+d)/n\n",
    "d_exp = (b+d)*(c+d)/n\n",
    "\n",
    "tea_data_expected = np.array([[a_exp,b_exp],[c_exp,d_exp]])\n",
    "\n",
    "print(tea_data_expected)"
   ]
  },
  {
   "cell_type": "code",
   "execution_count": 5,
   "metadata": {},
   "outputs": [],
   "source": [
    "def comb(n, r): # N choose r\n",
    "    return (int(m.factorial(n)/(m.factorial(n-r)*m.factorial(r))))\n",
    "\n",
    "def hypergeometric(n, a, b, c, d):\n",
    "    return (comb(a+b, a)*comb(c+d, c)/comb(n, a+c))\n"
   ]
  },
  {
   "cell_type": "code",
   "execution_count": 6,
   "metadata": {},
   "outputs": [
    {
     "name": "stdout",
     "output_type": "stream",
     "text": [
      "p_cutoff =  0.0022179193803907762\n"
     ]
    }
   ],
   "source": [
    "# Calculate the probability of the getting the tea_data by random.\n",
    "\n",
    "p_cutoff = hypergeometric(n, a, b, c, d)\n",
    "print('p_cutoff = ', p_cutoff)"
   ]
  },
  {
   "cell_type": "code",
   "execution_count": 7,
   "metadata": {},
   "outputs": [
    {
     "name": "stdout",
     "output_type": "stream",
     "text": [
      "min_value =  1\n",
      "argmin_value =  0\n",
      "min_margin  9\n"
     ]
    }
   ],
   "source": [
    "\n",
    "# Calculate the minimum of the elements and margin sums.\n",
    "\n",
    "min_value = np.min(tea_data)\n",
    "print('min_value = ', min_value)\n",
    "argmin_value = np.argmin(tea_data)\n",
    "print('argmin_value = ', argmin_value)\n",
    "\n",
    "\n",
    "margin = [a+b, c+d, a+c, b+d]\n",
    "min_margin = min(margin)\n",
    "print('min_margin ', min_margin)\n"
   ]
  },
  {
   "cell_type": "code",
   "execution_count": 8,
   "metadata": {},
   "outputs": [
    {
     "name": "stdout",
     "output_type": "stream",
     "text": [
      "[[ 0  9]\n",
      " [14  3]]\n"
     ]
    }
   ],
   "source": [
    "# Calculate the probabilities of all possible configurations.\n",
    "# Those probabilities less than or equal to p_cutoff are then\n",
    "# summed to give the p value.\n",
    "#\n",
    "# Need to set the element in the tea_data 2D array that has the min value.\n",
    "# Values will range from 0 to min_margin for this element.\n",
    "# The other 3 elements can be determined from this.\n",
    "#\n",
    "# First set the minimum element to zero, and adjust other elements accordingly.\n",
    "\n",
    "index = argmin_value\n",
    "#print('index = ', index)\n",
    "row_min = index//2 # Row number of the minimum element.\n",
    "col_min = index%2  # Column number of the minimum element.\n",
    "\n",
    "def change_table(delta, index):\n",
    "\n",
    "    multiplier = 1\n",
    "    zero_or_one_old = None\n",
    "    for i in range(0,4):\n",
    "        #index = (index+1)%4\n",
    "        #print('index = ', index)\n",
    "        row = index//2\n",
    "        col = index%2\n",
    "        #print('row', row)\n",
    "        #print('col', col)\n",
    "        zero_or_one = (row+col)%2\n",
    "        #print('zero_or_one', zero_or_one)\n",
    "        if zero_or_one_old != None and zero_or_one != zero_or_one_old:\n",
    "            multiplier *= -1\n",
    "        #print('multiplier = ', multiplier)\n",
    "        tea_data[row, col] += multiplier*delta\n",
    "        zero_or_one_old = zero_or_one\n",
    "        index = (index+1)%4\n",
    "        #print()\n",
    "        \n",
    "change_table(-min_value, argmin_value)\n",
    "    \n",
    "print(tea_data)"
   ]
  },
  {
   "cell_type": "code",
   "execution_count": 9,
   "metadata": {},
   "outputs": [
    {
     "name": "stdout",
     "output_type": "stream",
     "text": [
      "[[ 0  9]\n",
      " [14  3]]\n",
      "p =  7.041013906002464e-05\n",
      "\n",
      "[[ 1  8]\n",
      " [13  4]]\n",
      "p =  0.0022179193803907762\n",
      "\n",
      "[[ 2  7]\n",
      " [12  5]]\n",
      "p =  0.023066361556064074\n",
      "\n",
      "[[ 3  6]\n",
      " [11  6]]\n",
      "p =  0.10764302059496568\n",
      "\n",
      "[[ 4  5]\n",
      " [10  7]]\n",
      "p =  0.2537299771167048\n",
      "\n",
      "[[5 4]\n",
      " [9 8]]\n",
      "p =  0.317162471395881\n",
      "\n",
      "[[6 3]\n",
      " [8 9]]\n",
      "p =  0.211441647597254\n",
      "\n",
      "[[ 7  2]\n",
      " [ 7 10]]\n",
      "p =  0.07249427917620137\n",
      "\n",
      "[[ 8  1]\n",
      " [ 6 11]]\n",
      "p =  0.011533180778032037\n",
      "\n",
      "[[ 9  0]\n",
      " [ 5 12]]\n",
      "p =  0.0006407322654462242\n",
      "\n",
      "p_value is  0.002929061784897025\n"
     ]
    }
   ],
   "source": [
    "# Calculate the probabilities of all possible configurations.\n",
    "# Those probabilities less than or equal to p_cutoff are then\n",
    "# summed to give the p value.\n",
    "#\n",
    "\n",
    "p_value = 0.0\n",
    "for el in range(min_margin+1):\n",
    "    print(tea_data) \n",
    "    a = tea_data[0,0]\n",
    "    b = tea_data[0,1]\n",
    "    c = tea_data[1,0]\n",
    "    d = tea_data[1,1]\n",
    "    p = hypergeometric(n, a, b, c, d)\n",
    "    print('p = ', p)\n",
    "    if (p<= p_cutoff):\n",
    "        p_value += p\n",
    "    change_table(1,  argmin_value)\n",
    "    print()\n",
    "    \n",
    "print('p_value is ', p_value)\n",
    "    "
   ]
  },
  {
   "cell_type": "markdown",
   "metadata": {},
   "source": [
    "# Perform Fisher's Exact Test using the SciPy Library"
   ]
  },
  {
   "cell_type": "code",
   "execution_count": 10,
   "metadata": {},
   "outputs": [
    {
     "name": "stdout",
     "output_type": "stream",
     "text": [
      "p_value  is  0.002929061784897022\n"
     ]
    }
   ],
   "source": [
    "import scipy.stats as stats\n",
    "\n",
    "odds_ratio, p_value2 = stats.fisher_exact(tea_data_original, alternative='two-sided')\n",
    "\n",
    "print('p_value  is ', p_value2) "
   ]
  }
 ],
 "metadata": {
  "kernelspec": {
   "display_name": "Python 3",
   "language": "python",
   "name": "python3"
  },
  "language_info": {
   "codemirror_mode": {
    "name": "ipython",
    "version": 3
   },
   "file_extension": ".py",
   "mimetype": "text/x-python",
   "name": "python",
   "nbconvert_exporter": "python",
   "pygments_lexer": "ipython3",
   "version": "3.8.5"
  }
 },
 "nbformat": 4,
 "nbformat_minor": 4
}
