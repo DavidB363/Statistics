{
 "cells": [
  {
   "cell_type": "markdown",
   "metadata": {},
   "source": [
    "# David Brookes\n",
    "# February 2022"
   ]
  },
  {
   "cell_type": "markdown",
   "metadata": {},
   "source": [
    "# One Sample T Test"
   ]
  },
  {
   "cell_type": "markdown",
   "metadata": {},
   "source": [
    "# Task achieved using:\n",
    "# 1. Simple python commands\n",
    "# 2. Library software"
   ]
  },
  {
   "cell_type": "code",
   "execution_count": 1,
   "metadata": {},
   "outputs": [],
   "source": [
    "# A population has mean mean_pop for a particular continuos variable.\n",
    "# The standard deviation of the population is unknown.\n",
    "# Given a sample of continuous data, can one determine whether it is likely\n",
    "# to have come from the population?"
   ]
  },
  {
   "cell_type": "code",
   "execution_count": 2,
   "metadata": {},
   "outputs": [],
   "source": [
    "import numpy as np\n"
   ]
  },
  {
   "cell_type": "code",
   "execution_count": 3,
   "metadata": {},
   "outputs": [],
   "source": [
    "# Set random seed.\n",
    "np.random.seed(1)"
   ]
  },
  {
   "cell_type": "code",
   "execution_count": 4,
   "metadata": {},
   "outputs": [],
   "source": [
    "# Assign population mean.\n",
    "mean_pop = 100"
   ]
  },
  {
   "cell_type": "code",
   "execution_count": 5,
   "metadata": {},
   "outputs": [],
   "source": [
    "# Generate random sample.\n",
    "\n",
    "mean_sample_ideal = 110\n",
    "sd_sample_ideal = 20\n",
    "size_sample = 30\n",
    "\n",
    "x = np.random.normal(loc=mean_sample_ideal, scale=sd_sample_ideal, size=size_sample)"
   ]
  },
  {
   "cell_type": "code",
   "execution_count": 6,
   "metadata": {},
   "outputs": [
    {
     "name": "stdout",
     "output_type": "stream",
     "text": [
      "mean_sample =  108.80122178688752\n",
      "sd_sample =  20.52730301894518\n"
     ]
    }
   ],
   "source": [
    "def sum(a):\n",
    "    s = 0\n",
    "    for i in range(len(a)):\n",
    "        s += a[i]\n",
    "    return(s)\n",
    "    \n",
    "def sample_mean(a):\n",
    "    return (sum(a)/len(a))\n",
    "\n",
    "def sample_var(a):\n",
    "    n = len(a)\n",
    "    ss = 0\n",
    "    for i in range(n):\n",
    "        ss += a[i]**2\n",
    "    s_var = (ss - n*sample_mean(a)**2)/(n-1)\n",
    "    return (s_var)\n",
    "\n",
    "def sample_std(a):\n",
    "    return(np.sqrt(sample_var(a)))\n",
    "    \n",
    "mean_sample = sample_mean(x)\n",
    "sd_sample = sample_std(x)\n",
    "print('mean_sample = ', mean_sample)\n",
    "print('sd_sample = ', sd_sample)"
   ]
  },
  {
   "cell_type": "code",
   "execution_count": 7,
   "metadata": {},
   "outputs": [
    {
     "name": "stdout",
     "output_type": "stream",
     "text": [
      "mean_sample  108.80122178688752\n",
      "sd_sample_1  20.18228175712236\n",
      "sd_sample  20.52730301894513\n"
     ]
    }
   ],
   "source": [
    "# Note that these values are readily available using Numpy.\n",
    "\n",
    "mean_sample = np.mean(x) # Numpy solution to calculating the mean.\n",
    "sd_sample_1 = np.std(x) # Divisor n.\n",
    "sd_sample = np.std(x, ddof=1) # Divisor n-1 i.e. n - ddof. i.e unbiased estimate of standard deviation.\n",
    "\n",
    "print('mean_sample ', mean_sample)\n",
    "print('sd_sample_1 ',sd_sample_1) # Biased estimate.\n",
    "print('sd_sample ',sd_sample) # Unbiased estimate."
   ]
  },
  {
   "cell_type": "code",
   "execution_count": 8,
   "metadata": {},
   "outputs": [],
   "source": [
    "# H0, Null Hypotheis: mean_sample = mean_pop.\n",
    "# H1, Alternative Hypothesis: mean_sample != mean_pop (two sided)."
   ]
  },
  {
   "cell_type": "code",
   "execution_count": 9,
   "metadata": {},
   "outputs": [
    {
     "name": "stdout",
     "output_type": "stream",
     "text": [
      "T =  2.348397985763231\n"
     ]
    }
   ],
   "source": [
    "# Calculate the T statistic. \n",
    "# This has a t distribution with size_sample-1 degrees of freedom.\n",
    "\n",
    "T = (mean_sample - mean_pop)/(sd_sample/np.sqrt(size_sample))\n",
    "\n",
    "print('T = ', T)"
   ]
  },
  {
   "cell_type": "code",
   "execution_count": 10,
   "metadata": {},
   "outputs": [
    {
     "name": "stdout",
     "output_type": "stream",
     "text": [
      "p_value =  0.025883261165673188\n"
     ]
    }
   ],
   "source": [
    "# To find the p value it is necessary to calculate areas\n",
    "# under the t distribution curve.\n",
    "# I'm going to use the SciPy library here to save time,\n",
    "# rather performing numerical integration!\n",
    "\n",
    "from scipy.stats import t\n",
    "t_stat = T\n",
    "dof = size_sample - 1\n",
    "\n",
    "# p-value for 2-sided test\n",
    "print('p_value = ', 2*(1 - t.cdf(abs(t_stat), dof)))\n"
   ]
  },
  {
   "cell_type": "markdown",
   "metadata": {},
   "source": [
    "# Performing One Sample T Test with SciPy.stats Library"
   ]
  },
  {
   "cell_type": "code",
   "execution_count": 11,
   "metadata": {},
   "outputs": [
    {
     "name": "stdout",
     "output_type": "stream",
     "text": [
      "The t-statistic is 2.348398 and the p-value is 0.025883.\n"
     ]
    }
   ],
   "source": [
    "# 1-sample t-test.\n",
    "from scipy import stats\n",
    "\n",
    "one_sample = stats.ttest_1samp(x, mean_pop)\n",
    "\n",
    "print(\"The t-statistic is %.6f and the p-value is %.6f.\" % one_sample)"
   ]
  }
 ],
 "metadata": {
  "kernelspec": {
   "display_name": "Python 3",
   "language": "python",
   "name": "python3"
  },
  "language_info": {
   "codemirror_mode": {
    "name": "ipython",
    "version": 3
   },
   "file_extension": ".py",
   "mimetype": "text/x-python",
   "name": "python",
   "nbconvert_exporter": "python",
   "pygments_lexer": "ipython3",
   "version": "3.8.5"
  }
 },
 "nbformat": 4,
 "nbformat_minor": 4
}
