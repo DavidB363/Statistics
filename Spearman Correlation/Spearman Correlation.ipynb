{
 "cells": [
  {
   "cell_type": "markdown",
   "metadata": {},
   "source": [
    "# David Brookes\n",
    "# January 2022\n",
    "# Spearman's Rank Correlation Coefficient."
   ]
  },
  {
   "cell_type": "markdown",
   "metadata": {},
   "source": [
    "# Task achieved using:\n",
    "# 1. Simple python commands\n",
    "# 2. Library software"
   ]
  },
  {
   "cell_type": "code",
   "execution_count": 1,
   "metadata": {},
   "outputs": [],
   "source": [
    "# Determines the rank correlation between two variables.\n",
    "# Instead of using precise values, or when precision is not attainable, the variables\n",
    "# can be ranked using numbers 1, 2, ..., n."
   ]
  },
  {
   "cell_type": "code",
   "execution_count": 2,
   "metadata": {},
   "outputs": [],
   "source": [
    "import numpy as np\n",
    "import matplotlib.pyplot as plt\n"
   ]
  },
  {
   "cell_type": "code",
   "execution_count": 3,
   "metadata": {},
   "outputs": [
    {
     "name": "stdout",
     "output_type": "stream",
     "text": [
      "[ 3  9  5 10  2  7  8  4  1  6]\n",
      "[ 4  6  2  3 10  9  1  7  8  5]\n"
     ]
    }
   ],
   "source": [
    "# Generate x and y ranked data.\n",
    "\n",
    "np.random.seed(0)\n",
    "\n",
    "n = 10\n",
    "\n",
    "x = np.random.permutation(n)+1 # Permutation of 1, 2, 3, ..n.\n",
    "print(x)\n",
    "y = np.random.permutation(n)+1 # Permutation of 1, 2, 3, ..n.\n",
    "print(y)\n"
   ]
  },
  {
   "cell_type": "code",
   "execution_count": 4,
   "metadata": {},
   "outputs": [
    {
     "data": {
      "text/plain": [
       "<matplotlib.collections.PathCollection at 0x197f3a34970>"
      ]
     },
     "execution_count": 4,
     "metadata": {},
     "output_type": "execute_result"
    },
    {
     "data": {
      "image/png": "[encoded data removed]",
      "text/plain": [
       "<Figure size 432x288 with 1 Axes>"
      ]
     },
     "metadata": {
      "needs_background": "light"
     },
     "output_type": "display_data"
    }
   ],
   "source": [
    "# Scatter plot.\n",
    "plt.scatter(x, y, marker=None)"
   ]
  },
  {
   "cell_type": "code",
   "execution_count": 5,
   "metadata": {},
   "outputs": [],
   "source": [
    "# Need to calculate the summ of the squares of the differences between the ranks.\n",
    "\n",
    "ssd =  np.dot(y - x,y - x)\n",
    "# print(ssd)"
   ]
  },
  {
   "cell_type": "code",
   "execution_count": 6,
   "metadata": {},
   "outputs": [
    {
     "name": "stdout",
     "output_type": "stream",
     "text": [
      "Spearman's Rank Correlation Coefficient is  -0.47878787878787876\n"
     ]
    }
   ],
   "source": [
    "# Calculate Spearman's correlation coefficient.\n",
    "\n",
    "r_rank = 1 - 6 * ssd /(n * (n*n -1))\n",
    "\n",
    "print('Spearman\\'s Rank Correlation Coefficient is ', r_rank)"
   ]
  },
  {
   "cell_type": "code",
   "execution_count": null,
   "metadata": {},
   "outputs": [],
   "source": []
  },
  {
   "cell_type": "markdown",
   "metadata": {},
   "source": []
  },
  {
   "cell_type": "markdown",
   "metadata": {},
   "source": [
    "# Calculating Spearman's Correlation Coefficient using the SciPy Library"
   ]
  },
  {
   "cell_type": "code",
   "execution_count": 7,
   "metadata": {},
   "outputs": [
    {
     "name": "stdout",
     "output_type": "stream",
     "text": [
      "Pearson's Correlation Coefficient is  -0.4787878787878787\n",
      "The two-tailed p_value is  0.1615229280174558\n"
     ]
    }
   ],
   "source": [
    "from scipy import stats\n",
    "\n",
    "r_rank_scipy, p_value = stats.spearmanr(x, y)\n",
    "\n",
    "# Note: The (two-tailed) p-value roughly indicates the probability of an uncorrelated system \n",
    "# producing datasets that have a Pearson correlation at least as extreme as the one computed \n",
    "# from these datasets.\n",
    "\n",
    "print('Pearson\\'s Correlation Coefficient is ', r_rank_scipy)\n",
    "print('The two-tailed p_value is ', p_value)"
   ]
  }
 ],
 "metadata": {
  "kernelspec": {
   "display_name": "Python 3",
   "language": "python",
   "name": "python3"
  },
  "language_info": {
   "codemirror_mode": {
    "name": "ipython",
    "version": 3
   },
   "file_extension": ".py",
   "mimetype": "text/x-python",
   "name": "python",
   "nbconvert_exporter": "python",
   "pygments_lexer": "ipython3",
   "version": "3.8.5"
  }
 },
 "nbformat": 4,
 "nbformat_minor": 4
}
