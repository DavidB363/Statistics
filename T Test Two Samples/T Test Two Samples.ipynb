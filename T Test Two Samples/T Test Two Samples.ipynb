{
 "cells": [
  {
   "cell_type": "markdown",
   "metadata": {},
   "source": [
    "# David Brookes\n",
    "# February 2022"
   ]
  },
  {
   "cell_type": "markdown",
   "metadata": {},
   "source": [
    "# Two Sample T Test"
   ]
  },
  {
   "cell_type": "markdown",
   "metadata": {},
   "source": [
    "# Task achieved using:\n",
    "# 1. Simple python commands\n",
    "# 2. Library software"
   ]
  },
  {
   "cell_type": "code",
   "execution_count": 1,
   "metadata": {},
   "outputs": [],
   "source": [
    "# Do the mean values of two groups of continuous data differ\n",
    "# signicantly from one another?\n",
    "# (This assumes that both groups are taken from populations with identical values of variance)."
   ]
  },
  {
   "cell_type": "code",
   "execution_count": 2,
   "metadata": {},
   "outputs": [],
   "source": [
    "import numpy as np"
   ]
  },
  {
   "cell_type": "code",
   "execution_count": 3,
   "metadata": {},
   "outputs": [],
   "source": [
    "# Set random seed.\n",
    "np.random.seed(1)"
   ]
  },
  {
   "cell_type": "code",
   "execution_count": 4,
   "metadata": {},
   "outputs": [
    {
     "name": "stdout",
     "output_type": "stream",
     "text": [
      "mean_sample_ideal_1  200\n",
      "sd_sample_ideal_1  30\n",
      "mean_sample_ideal_2  220\n",
      "sd_sample_ideal_2  40\n"
     ]
    }
   ],
   "source": [
    "# Generate two groups of random samples.\n",
    "\n",
    "mean_sample_ideal_1 = 200\n",
    "sd_sample_ideal_1 = 30\n",
    "size_sample_1 = 30\n",
    "\n",
    "mean_sample_ideal_2 = 220\n",
    "sd_sample_ideal_2 = 40\n",
    "size_sample_2 = 50\n",
    "\n",
    "group_1 = np.random.normal(loc=mean_sample_ideal_1, scale=sd_sample_ideal_1, size=size_sample_1)\n",
    "group_2 = np.random.normal(loc=mean_sample_ideal_2, scale=sd_sample_ideal_2, size=size_sample_2)\n",
    "\n",
    "print('mean_sample_ideal_1 ', mean_sample_ideal_1)\n",
    "print('sd_sample_ideal_1 ',sd_sample_ideal_1) # Unbiased estimate.\n",
    "print('mean_sample_ideal_2 ', mean_sample_ideal_2)\n",
    "print('sd_sample_ideal_2 ',sd_sample_ideal_2) # Unbiased estimate."
   ]
  },
  {
   "cell_type": "code",
   "execution_count": 5,
   "metadata": {},
   "outputs": [
    {
     "name": "stdout",
     "output_type": "stream",
     "text": [
      "mean_sample_1  198.2018326803313\n",
      "sd_sample_1  30.790954528417704\n",
      "mean_sample_2  224.6069943376575\n",
      "sd_sample_2  37.01961971826973\n"
     ]
    }
   ],
   "source": [
    "mean_sample_1 = np.mean(group_1) # Numpy solution to calculating the mean.\n",
    "sd_sample_1 = np.std(group_1, ddof=1) # Divisor n-1 i.e. n - ddof. i.e unbiased estimate of standard deviation.\n",
    "\n",
    "mean_sample_2 = np.mean(group_2) # Numpy solution to calculating the mean.\n",
    "sd_sample_2 = np.std(group_2, ddof=1) # Divisor n-1 i.e. n - ddof. i.e unbiased estimate of standard deviation.\n",
    "\n",
    "\n",
    "print('mean_sample_1 ', mean_sample_1)\n",
    "print('sd_sample_1 ',sd_sample_1) # Unbiased estimate.\n",
    "print('mean_sample_2 ', mean_sample_2)\n",
    "print('sd_sample_2 ',sd_sample_2) # Unbiased estimate."
   ]
  },
  {
   "cell_type": "code",
   "execution_count": 6,
   "metadata": {},
   "outputs": [
    {
     "name": "stdout",
     "output_type": "stream",
     "text": [
      "sd_pooled =  34.83414245825227\n"
     ]
    }
   ],
   "source": [
    "# Pool the variances.\n",
    "#\n",
    "# (This assumes that both groups are taken from populations with identical values of variance).\n",
    "\n",
    "var_pooled = ((size_sample_1 - 1)*sd_sample_1**2 + (size_sample_2 - 1)*sd_sample_2**2)/(size_sample_1+size_sample_2-2)\n",
    "sd_pooled = np.sqrt(var_pooled)\n",
    "print('sd_pooled = ', sd_pooled)"
   ]
  },
  {
   "cell_type": "code",
   "execution_count": 7,
   "metadata": {},
   "outputs": [],
   "source": [
    "# H0, Null Hypotheis: mean_pop_1 = mean_pop_2.\n",
    "# H1, Alternative Hypothesis: mean_pop_1 != mean_pop_2 (two sided)."
   ]
  },
  {
   "cell_type": "code",
   "execution_count": 8,
   "metadata": {},
   "outputs": [
    {
     "name": "stdout",
     "output_type": "stream",
     "text": [
      "T =  -3.282345878570916\n"
     ]
    }
   ],
   "source": [
    "# Calculate the T statistic.\n",
    "# This has a t distribution with size_sample_1 + size_sample_2 - 2 \n",
    "# degrees of freedom.\n",
    "\n",
    "\n",
    "T = (mean_sample_1 - mean_sample_2)/(sd_pooled * np.sqrt(1/size_sample_1 + 1/size_sample_2))\n",
    "\n",
    "print('T = ', T)"
   ]
  },
  {
   "cell_type": "code",
   "execution_count": 9,
   "metadata": {},
   "outputs": [
    {
     "name": "stdout",
     "output_type": "stream",
     "text": [
      "p_value =  0.0015417307703271543\n"
     ]
    }
   ],
   "source": [
    "# To find the p value it is necessary to calculate areas\n",
    "# under the t distribution curve.\n",
    "# I'm going to use the SciPy library here to save time,\n",
    "# rather performing numerical integration!\n",
    "\n",
    "from scipy.stats import t\n",
    "t_stat = T\n",
    "dof = size_sample_1 + size_sample_2 - 2\n",
    "\n",
    "# p-value for 2-sided test\n",
    "print('p_value = ', 2*(1 - t.cdf(abs(t_stat), dof)))"
   ]
  },
  {
   "cell_type": "markdown",
   "metadata": {},
   "source": [
    "# Performing a Two Sample T Test with SciPy.stats Library"
   ]
  },
  {
   "cell_type": "code",
   "execution_count": 10,
   "metadata": {},
   "outputs": [
    {
     "name": "stdout",
     "output_type": "stream",
     "text": [
      "The t-statistic is -3.282346 and the p-value is 0.001542.\n"
     ]
    }
   ],
   "source": [
    "\n",
    "import scipy.stats as stats\n",
    "\n",
    "#perform two sample t-test with equal variances\n",
    "two_sample = stats.ttest_ind(a=group_1, b=group_2, equal_var=True)\n",
    "\n",
    "print(\"The t-statistic is %.6f and the p-value is %.6f.\" % two_sample)"
   ]
  }
 ],
 "metadata": {
  "kernelspec": {
   "display_name": "Python 3",
   "language": "python",
   "name": "python3"
  },
  "language_info": {
   "codemirror_mode": {
    "name": "ipython",
    "version": 3
   },
   "file_extension": ".py",
   "mimetype": "text/x-python",
   "name": "python",
   "nbconvert_exporter": "python",
   "pygments_lexer": "ipython3",
   "version": "3.8.5"
  }
 },
 "nbformat": 4,
 "nbformat_minor": 4
}
