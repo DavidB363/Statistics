{
 "cells": [
  {
   "cell_type": "markdown",
   "metadata": {},
   "source": [
    "# David Brookes\n",
    "# April 2022"
   ]
  },
  {
   "cell_type": "markdown",
   "metadata": {},
   "source": [
    "# Two Factor ANOVA (Analysis of Variance)"
   ]
  },
  {
   "cell_type": "markdown",
   "metadata": {},
   "source": [
    "# Task achieved using:\n",
    "# 1. Simple python commands\n",
    "# 2. Library software"
   ]
  },
  {
   "cell_type": "markdown",
   "metadata": {},
   "source": [
    "The analysis of variance using one factor can be extended to two (or more) factors.\n",
    "(See code the 'ANOVA One Factor').    \\\n",
    "E.g. Yields per acre of four different plant crops grown on lots treated with three different types of fertilizer. In this case Yield is the dependent continuous variable, and crops and fertilizer are the independent categorical variables (factors).   \n",
    "\n",
    "Note that it is assumed that only one measurement is taken for the Yield (in contrast to the example given in the ANOVA One Factor code where there were replications - i.e. several measurements).\n",
    "\n",
    "\n",
    " "
   ]
  },
  {
   "cell_type": "markdown",
   "metadata": {},
   "source": [
    "(Theory and examples taken from the book Probability and Statistics - Schaum's Outline Series)."
   ]
  },
  {
   "cell_type": "markdown",
   "metadata": {},
   "source": [
    "ANOVA test assumptions:\n",
    "\n",
    "The ANOVA test has important assumptions that must be satisfied in order for the associated p-value to be valid.\n",
    "\n",
    "The samples are independent.\n",
    "\n",
    "Each sample is from a normally distributed population.\n",
    "\n",
    "The population standard deviations of the groups are all equal. This property is known as homoscedasticity."
   ]
  },
  {
   "cell_type": "code",
   "execution_count": 1,
   "metadata": {},
   "outputs": [],
   "source": [
    "fertilizer = ['A', 'B', 'C']\n",
    "crop = ['I', 'II', 'III', 'IV']"
   ]
  },
  {
   "cell_type": "code",
   "execution_count": 2,
   "metadata": {},
   "outputs": [
    {
     "name": "stdout",
     "output_type": "stream",
     "text": [
      "[[4.5 6.4 7.2 6.7]\n",
      " [8.8 7.8 9.6 7. ]\n",
      " [5.9 6.8 5.7 5.2]]\n"
     ]
    }
   ],
   "source": [
    "import numpy as np\n",
    "\n",
    "x = np.array([[4.5, 6.4, 7.2, 6.7], [8.8, 7.8, 9.6, 7.0], [5.9, 6.8, 5.7, 5.2]]) \n",
    "print(x)"
   ]
  },
  {
   "cell_type": "code",
   "execution_count": 3,
   "metadata": {},
   "outputs": [
    {
     "name": "stdout",
     "output_type": "stream",
     "text": [
      "(3, 4)\n"
     ]
    }
   ],
   "source": [
    "a, b = x.shape\n",
    "\n",
    "print((a,b))"
   ]
  },
  {
   "cell_type": "code",
   "execution_count": 4,
   "metadata": {},
   "outputs": [
    {
     "name": "stdout",
     "output_type": "stream",
     "text": [
      "5.2\n"
     ]
    }
   ],
   "source": [
    "fert_index = fertilizer.index('C')\n",
    "crop_index = crop.index('crop_IV')\n",
    "\n",
    "print(x[fert_index, crop_index])"
   ]
  },
  {
   "cell_type": "code",
   "execution_count": 5,
   "metadata": {},
   "outputs": [
    {
     "name": "stdout",
     "output_type": "stream",
     "text": [
      "[6.2 8.3 5.9]\n"
     ]
    }
   ],
   "source": [
    "# Find the fertilizer (row) means.\n",
    "\n",
    "x_row_mean = np.mean(x, axis=1)\n",
    "print(x_row_mean)"
   ]
  },
  {
   "cell_type": "code",
   "execution_count": 6,
   "metadata": {},
   "outputs": [
    {
     "name": "stdout",
     "output_type": "stream",
     "text": [
      "[6.4 7.  7.5 6.3]\n"
     ]
    }
   ],
   "source": [
    "# Find the crop (column) means.\n",
    "\n",
    "x_col_mean = np.mean(x, axis=0)\n",
    "print(x_col_mean)"
   ]
  },
  {
   "cell_type": "code",
   "execution_count": 7,
   "metadata": {},
   "outputs": [
    {
     "name": "stdout",
     "output_type": "stream",
     "text": [
      "6.800000000000001\n"
     ]
    }
   ],
   "source": [
    "# Find the grand mean.\n",
    "\n",
    "x_grand_mean = np.mean(x)\n",
    "print(x_grand_mean)"
   ]
  },
  {
   "cell_type": "code",
   "execution_count": 8,
   "metadata": {},
   "outputs": [
    {
     "name": "stdout",
     "output_type": "stream",
     "text": [
      "23.08\n"
     ]
    }
   ],
   "source": [
    "# Find the total variation.\n",
    "# (Using the efficient numpy array iterator np.nditer).\n",
    "v = 0.0\n",
    "for el in np.nditer(x):\n",
    "    v += (el-x_grand_mean)**2\n",
    "print(v)"
   ]
  },
  {
   "cell_type": "code",
   "execution_count": 9,
   "metadata": {},
   "outputs": [
    {
     "name": "stdout",
     "output_type": "stream",
     "text": [
      "13.680000000000012\n"
     ]
    }
   ],
   "source": [
    "# Find the variation between fertilizers (rows).\n",
    "# (Using the efficient numpy array iterator np.nditer).\n",
    "v_r = 0.0\n",
    "for el in np.nditer(x_row_mean):\n",
    "    v_r += (el-x_grand_mean)**2\n",
    "v_r *= b\n",
    "print(v_r)"
   ]
  },
  {
   "cell_type": "code",
   "execution_count": 10,
   "metadata": {},
   "outputs": [
    {
     "name": "stdout",
     "output_type": "stream",
     "text": [
      "2.8199999999999976\n"
     ]
    }
   ],
   "source": [
    "# Find the variation between crops (columns).\n",
    "# (Using the efficient numpy array iterator np.nditer).\n",
    "v_c = 0.0\n",
    "for el in np.nditer(x_col_mean):\n",
    "    v_c += (el-x_grand_mean)**2\n",
    "v_c *= a\n",
    "print(v_c)"
   ]
  },
  {
   "cell_type": "code",
   "execution_count": 11,
   "metadata": {},
   "outputs": [
    {
     "name": "stdout",
     "output_type": "stream",
     "text": [
      "6.58\n"
     ]
    }
   ],
   "source": [
    "# Find the variation due to error (rows).\n",
    "# (Using the efficient numpy array iterator np.nditer).\n",
    "# numpy arrays x and x__row_mean can be iterated simultaneously.\n",
    "\n",
    "v_e = 0.0\n",
    "for el, m1, m2 in np.nditer([x, x_row_mean.reshape(a,1), x_col_mean.reshape(1,b)]):\n",
    "    v_e += (el - m1- m2 + x_grand_mean)**2\n",
    "\n",
    "print(v_e)"
   ]
  },
  {
   "cell_type": "code",
   "execution_count": 12,
   "metadata": {},
   "outputs": [
    {
     "name": "stdout",
     "output_type": "stream",
     "text": [
      "6.5799999999999885\n"
     ]
    }
   ],
   "source": [
    "# A quick way to work out the variation due to error is as follows.\n",
    "# (This acts as a check for the above calculation)\n",
    "\n",
    "v_e = v - v_r - v_c\n",
    "print(v_e)"
   ]
  },
  {
   "cell_type": "markdown",
   "metadata": {},
   "source": [
    "There are two hypotheses that we may want to test   \\\n",
    "H0(1): The fertilizer (row) means are equal.   \\\n",
    "H0(1): The crop (column) means are equal.     "
   ]
  },
  {
   "cell_type": "code",
   "execution_count": 13,
   "metadata": {},
   "outputs": [
    {
     "name": "stdout",
     "output_type": "stream",
     "text": [
      "1.0966666666666647\n"
     ]
    }
   ],
   "source": [
    "# Find an unbiased estimate of the population variance using: \n",
    "# the variation due to error.\n",
    "\n",
    "# Note that this is the best estimate of the variance regardless of\n",
    "# whether either of the null hypotheses is true or not.\n",
    "\n",
    "var_e = v_e/((a-1)*(b-1))\n",
    "print(var_e)"
   ]
  },
  {
   "cell_type": "code",
   "execution_count": 14,
   "metadata": {},
   "outputs": [
    {
     "name": "stdout",
     "output_type": "stream",
     "text": [
      "6.840000000000006\n"
     ]
    }
   ],
   "source": [
    "# Find an unbiased estimate of the population variance using: \n",
    "# the variation between fertilizers (rows), under the null hypothesis\n",
    "# that all fertilizer (row) means are equal (i.e. H0(1) is true).\n",
    "\n",
    "var_r = v_r/(a-1)\n",
    "print(var_r)"
   ]
  },
  {
   "cell_type": "code",
   "execution_count": 15,
   "metadata": {},
   "outputs": [
    {
     "name": "stdout",
     "output_type": "stream",
     "text": [
      "0.9399999999999992\n"
     ]
    }
   ],
   "source": [
    "# Find an unbiased estimate of the population variance using: \n",
    "# the variation between crops (columns), under the null hypothesis\n",
    "# that all crop (column) means are equal (i.e. H0(2) is true).\n",
    "\n",
    "var_c = v_c/(b-1)\n",
    "print(var_c)\n"
   ]
  },
  {
   "cell_type": "code",
   "execution_count": 16,
   "metadata": {},
   "outputs": [
    {
     "name": "stdout",
     "output_type": "stream",
     "text": [
      "2.098181818181818\n"
     ]
    }
   ],
   "source": [
    "# Find an unbiased estimate of the population variance using: \n",
    "# the total variation, under the null hypothesis\n",
    "# that all fertilizer (row) means are equal, that all crop (column) means are equal (i.e. H0(1) and H0(2) are true).\n",
    "\n",
    "var = v/(a*b-1)\n",
    "print(var)\n"
   ]
  },
  {
   "cell_type": "code",
   "execution_count": 17,
   "metadata": {},
   "outputs": [
    {
     "name": "stdout",
     "output_type": "stream",
     "text": [
      "6.237082066869318\n"
     ]
    }
   ],
   "source": [
    "# Under the null hypothesis H0(1) of equal fertilizer (row) means the statistic\n",
    "# var_r/var_e has an F distribution with (a-1), (a-1)(b-1) degrees of freedom. \n",
    "# This provides a test for the null hyothesis.\n",
    "\n",
    "F1 = var_r/var_e\n",
    "\n",
    "print(F1)"
   ]
  },
  {
   "cell_type": "code",
   "execution_count": 18,
   "metadata": {},
   "outputs": [
    {
     "name": "stdout",
     "output_type": "stream",
     "text": [
      "p_value =  0.034257791179503894\n"
     ]
    }
   ],
   "source": [
    "# To find the p value it is necessary to calculate areas\n",
    "# under the F distribution curve.\n",
    "# I'm going to use the SciPy library here to save time,\n",
    "# rather performing numerical integration!\n",
    "\n",
    "from scipy.stats import f\n",
    "f_stat = F1\n",
    "dof1 = a - 1\n",
    "dof2 = (a-1)*(b-1)\n",
    "\n",
    "# p-value for 1-sided test\n",
    "print('p_value = ', 1 - f.cdf(abs(f_stat), dof1, dof2))"
   ]
  },
  {
   "cell_type": "markdown",
   "metadata": {},
   "source": [
    "At the 0.05 level of signicance H0(1) can be rejected (since 0.034 < 0.05).   \\\n",
    "The fertilizer (row) means are not equal, and there is a difference in yield   \\\n",
    "due to the fertilizers used."
   ]
  },
  {
   "cell_type": "code",
   "execution_count": 19,
   "metadata": {},
   "outputs": [
    {
     "name": "stdout",
     "output_type": "stream",
     "text": [
      "0.857142857142858\n"
     ]
    }
   ],
   "source": [
    "# Under the null hypothesis H0(2) of equal crop (column) means the statistic\n",
    "# var_r/var_e has an F distribution with (b-1), (a-1)(b-1) degrees of freedom. \n",
    "# This provides a test for the null hyothesis.\n",
    "\n",
    "F2 = var_c/var_e\n",
    "\n",
    "print(F2)"
   ]
  },
  {
   "cell_type": "code",
   "execution_count": 20,
   "metadata": {},
   "outputs": [
    {
     "name": "stdout",
     "output_type": "stream",
     "text": [
      "p_value =  0.5121845972219611\n"
     ]
    }
   ],
   "source": [
    "# Calculate the corresponding p value.\n",
    "\n",
    "f_stat = F2\n",
    "dof1 = b - 1\n",
    "dof2 = (a-1)*(b-1)\n",
    "\n",
    "# p-value for 1-sided test\n",
    "print('p_value = ', 1 - f.cdf(abs(f_stat), dof1, dof2))"
   ]
  },
  {
   "cell_type": "markdown",
   "metadata": {},
   "source": [
    "At the 0.05 level of signicance H0(2) cannot be rejected (since 0.512 > 0.05).\n",
    "The crop (column) means are equal, and there is a no difference in yield   \\\n",
    "due to the crops used."
   ]
  },
  {
   "cell_type": "markdown",
   "metadata": {},
   "source": [
    "# Performing ANOVA Two Factor Test with statsmodels.api Library"
   ]
  },
  {
   "cell_type": "code",
   "execution_count": 21,
   "metadata": {},
   "outputs": [],
   "source": [
    "# Note that the scipy library does not appear to have a Two Factor ANOVA function."
   ]
  },
  {
   "cell_type": "code",
   "execution_count": 22,
   "metadata": {},
   "outputs": [],
   "source": [
    "import numpy as np\n",
    "import pandas as pd"
   ]
  },
  {
   "cell_type": "code",
   "execution_count": 23,
   "metadata": {},
   "outputs": [
    {
     "name": "stdout",
     "output_type": "stream",
     "text": [
      "Empty DataFrame\n",
      "Columns: [Fertilizer, Crop, Yield]\n",
      "Index: []\n"
     ]
    }
   ],
   "source": [
    "# Create a dataframe.\n",
    "df = pd.DataFrame(columns = ['Fertilizer', 'Crop', 'Yield'])\n",
    "\n",
    "print(df)"
   ]
  },
  {
   "cell_type": "code",
   "execution_count": 24,
   "metadata": {},
   "outputs": [
    {
     "name": "stdout",
     "output_type": "stream",
     "text": [
      "   Fertilizer      Crop  Yield\n",
      "0           A    crop_I    4.5\n",
      "1           A   crop_II    6.4\n",
      "2           A  crop_III    7.2\n",
      "3           A   crop_IV    6.7\n",
      "4           B    crop_I    8.8\n",
      "5           B   crop_II    7.8\n",
      "6           B  crop_III    9.6\n",
      "7           B   crop_IV    7.0\n",
      "8           C    crop_I    5.9\n",
      "9           C   crop_II    6.8\n",
      "10          C  crop_III    5.7\n",
      "11          C   crop_IV    5.2\n"
     ]
    }
   ],
   "source": [
    "# Populate the dataframe with data from numpy array x.\n",
    "for findex in range(len(fertilizer)):\n",
    "    for cindex in range(len(crop)):\n",
    "        #print('findex:', findex,'cindex:', cindex )\n",
    "        df.loc[len(df.index)] = [fertilizer[findex], crop[cindex], x[findex, cindex]]    \n",
    "print(df)       "
   ]
  },
  {
   "cell_type": "code",
   "execution_count": 25,
   "metadata": {},
   "outputs": [
    {
     "name": "stdout",
     "output_type": "stream",
     "text": [
      "               sum_sq   df         F    PR(>F)\n",
      "C(Fertilizer)   13.68  2.0  6.237082  0.034258\n",
      "C(Crop)          2.82  3.0  0.857143  0.512185\n",
      "Residual         6.58  6.0       NaN       NaN\n"
     ]
    }
   ],
   "source": [
    "# Importing libraries.\n",
    "import statsmodels.api as sm\n",
    "from statsmodels.formula.api import ols\n",
    "  \n",
    "# Performing Two Factor ANOVA.\n",
    "#model = ols('Yield ~ C(Fertilizer) + C(Crop) + C(Fertilizer):C(Crop)', data=df).fit()\n",
    "model = ols('Yield ~ C(Fertilizer) + C(Crop)', data=df).fit()\n",
    "result = sm.stats.anova_lm(model, typ=2)\n",
    "\n",
    "print(result)"
   ]
  }
 ],
 "metadata": {
  "kernelspec": {
   "display_name": "Python 3",
   "language": "python",
   "name": "python3"
  },
  "language_info": {
   "codemirror_mode": {
    "name": "ipython",
    "version": 3
   },
   "file_extension": ".py",
   "mimetype": "text/x-python",
   "name": "python",
   "nbconvert_exporter": "python",
   "pygments_lexer": "ipython3",
   "version": "3.8.5"
  }
 },
 "nbformat": 4,
 "nbformat_minor": 4
}
