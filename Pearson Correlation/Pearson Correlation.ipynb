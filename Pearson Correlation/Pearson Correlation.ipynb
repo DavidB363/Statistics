{
 "cells": [
  {
   "cell_type": "markdown",
   "metadata": {},
   "source": [
    "# David Brookes\n",
    "# January 2022"
   ]
  },
  {
   "cell_type": "markdown",
   "metadata": {},
   "source": [
    "# Pearson's Correlation Coefficient."
   ]
  },
  {
   "cell_type": "markdown",
   "metadata": {},
   "source": [
    "# Task achieved using:\n",
    "# 1. Simple python commands\n",
    "# 2. Library software"
   ]
  },
  {
   "cell_type": "code",
   "execution_count": 1,
   "metadata": {},
   "outputs": [],
   "source": [
    "# Determines the amount of LINEAR correlation between two continuous variables.\n",
    "# Assume x is the independent varaiable and y is the dependent variable."
   ]
  },
  {
   "cell_type": "code",
   "execution_count": 2,
   "metadata": {},
   "outputs": [],
   "source": [
    "import numpy as np\n",
    "import matplotlib.pyplot as plt\n"
   ]
  },
  {
   "cell_type": "code",
   "execution_count": 3,
   "metadata": {},
   "outputs": [
    {
     "name": "stdout",
     "output_type": "stream",
     "text": [
      "[ 0  1  2  3  4  5  6  7  8  9 10 11 12 13 14 15 16 17 18 19 20 21 22 23\n",
      " 24 25 26 27 28 29]\n",
      "[  5.39974511 -13.60368841  14.08312389   9.86611963  10.6183901\n",
      "   7.61674105   2.8324317   25.06354832  10.58273368  10.44136376\n",
      "  29.65669164  26.55710471   8.32899727  28.77890606  13.82199328\n",
      "  45.36675739  50.29876463  33.81184187  52.92807427  16.08227385\n",
      "  38.86230451  18.36432522  38.00611638  22.92654578  25.95799859\n",
      "  50.93726545  33.90060003  29.44728422  36.61531035  44.59131425]\n"
     ]
    }
   ],
   "source": [
    "# Generate some x, y data randomly.\n",
    "# i.e. y = ax+b + random\n",
    "\n",
    "np.random.seed(2)\n",
    "\n",
    "n = 30 # Number of points.\n",
    "a = 1.5 # Gradient.\n",
    "b = 8.6 # Intercept.\n",
    "c = 25 # Amount of error.\n",
    "\n",
    "x = np.arange(0,n,1)\n",
    "print(x)\n",
    "random_values = np.random.rand(n) # Between 0 and 1.\n",
    "random_values = 2*random_values - 1 # Between -1 and 1.\n",
    "y = a*x + b + c*random_values\n",
    "\n",
    "print(y)\n"
   ]
  },
  {
   "cell_type": "code",
   "execution_count": 4,
   "metadata": {},
   "outputs": [
    {
     "data": {
      "text/plain": [
       "<matplotlib.collections.PathCollection at 0x1de9b737970>"
      ]
     },
     "execution_count": 4,
     "metadata": {},
     "output_type": "execute_result"
    },
    {
     "data": {
      "image/png": "[encoded data removed]",
      "text/plain": [
       "<Figure size 432x288 with 1 Axes>"
      ]
     },
     "metadata": {
      "needs_background": "light"
     },
     "output_type": "display_data"
    }
   ],
   "source": [
    "# Scatter plot.\n",
    "plt.scatter(x, y, marker=None)\n"
   ]
  },
  {
   "cell_type": "code",
   "execution_count": 5,
   "metadata": {},
   "outputs": [
    {
     "name": "stdout",
     "output_type": "stream",
     "text": [
      "14.5\n",
      "24.271365952778705\n"
     ]
    }
   ],
   "source": [
    "# Calculate the mean of x, and the mean of y.\n",
    "x_mean = np.mean(x)\n",
    "print(x_mean)\n",
    "\n",
    "y_mean = np.mean(y)\n",
    "print(y_mean)\n",
    "    "
   ]
  },
  {
   "cell_type": "code",
   "execution_count": 6,
   "metadata": {},
   "outputs": [
    {
     "name": "stdout",
     "output_type": "stream",
     "text": [
      "2247.5\n",
      "7761.216182673578\n",
      "2930.010446247627\n"
     ]
    }
   ],
   "source": [
    "# Calculate the sum of the squares from the means for x and y.\n",
    "\n",
    "s_x = np.dot(x-x_mean,x-x_mean) # This is n*variance_x\n",
    "print(s_x)\n",
    "\n",
    "s_y = np.dot(y-y_mean,y-y_mean) # This is n*variance_y\n",
    "print(s_y)\n",
    "\n",
    "s_xy = np.dot(x-x_mean,y-y_mean) # This is n*covariance_xy\n",
    "print(s_xy)"
   ]
  },
  {
   "cell_type": "code",
   "execution_count": 7,
   "metadata": {},
   "outputs": [
    {
     "name": "stdout",
     "output_type": "stream",
     "text": [
      "Pearson's Correlation Coefficient is  0.7015432142988154\n"
     ]
    }
   ],
   "source": [
    "# Calculate Pearson's correlation coefficient.\n",
    "\n",
    "r = s_xy/np.sqrt(s_x*s_y)\n",
    "print('Pearson\\'s Correlation Coefficient is ', r)"
   ]
  },
  {
   "cell_type": "markdown",
   "metadata": {},
   "source": [
    "# Calculating Pearson's Correlation Coefficient using the Numpy Library"
   ]
  },
  {
   "cell_type": "code",
   "execution_count": 8,
   "metadata": {},
   "outputs": [
    {
     "name": "stdout",
     "output_type": "stream",
     "text": [
      "Pearson's Correlation Coefficient is  0.7015432142988154\n"
     ]
    }
   ],
   "source": [
    "r_numpy = np.corrcoef(x, y)\n",
    "print('Pearson\\'s Correlation Coefficient is ', r_numpy[0,1])"
   ]
  },
  {
   "cell_type": "markdown",
   "metadata": {},
   "source": [
    "# Calculating Pearson's Correlation Coefficient using the SciPy Library"
   ]
  },
  {
   "cell_type": "code",
   "execution_count": 9,
   "metadata": {},
   "outputs": [
    {
     "name": "stdout",
     "output_type": "stream",
     "text": [
      "Pearson's Correlation Coefficient is  0.7015432142988155\n",
      "The two-tailed p_value is  1.5655818736324616e-05\n"
     ]
    }
   ],
   "source": [
    "from scipy import stats\n",
    "\n",
    "r_scipy, p_value = stats.pearsonr(x, y)\n",
    "\n",
    "# Note: The (two-tailed) p-value roughly indicates the probability of an uncorrelated system \n",
    "# producing datasets that have a Pearson correlation at least as extreme as the one computed \n",
    "# from these datasets.\n",
    "\n",
    "print('Pearson\\'s Correlation Coefficient is ', r_scipy)\n",
    "print('The two-tailed p_value is ', p_value)"
   ]
  },
  {
   "cell_type": "code",
   "execution_count": null,
   "metadata": {},
   "outputs": [],
   "source": []
  }
 ],
 "metadata": {
  "kernelspec": {
   "display_name": "Python 3",
   "language": "python",
   "name": "python3"
  },
  "language_info": {
   "codemirror_mode": {
    "name": "ipython",
    "version": 3
   },
   "file_extension": ".py",
   "mimetype": "text/x-python",
   "name": "python",
   "nbconvert_exporter": "python",
   "pygments_lexer": "ipython3",
   "version": "3.8.5"
  }
 },
 "nbformat": 4,
 "nbformat_minor": 4
}
