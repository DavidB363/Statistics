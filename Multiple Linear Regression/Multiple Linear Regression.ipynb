{
 "cells": [
  {
   "cell_type": "markdown",
   "metadata": {},
   "source": [
    "# David Brookes\n",
    "# February 2022"
   ]
  },
  {
   "cell_type": "markdown",
   "metadata": {},
   "source": [
    "# Multiple Linear Regression"
   ]
  },
  {
   "cell_type": "markdown",
   "metadata": {},
   "source": [
    "# Task achieved using:\n",
    "# 1. Simple python commands\n",
    "# 2. Library software"
   ]
  },
  {
   "cell_type": "code",
   "execution_count": 1,
   "metadata": {},
   "outputs": [],
   "source": [
    "# Determines the best linear relationship between variables y and x_1, x_2,..., x_p.\n",
    "# in the least squares sense.\n",
    "# Assume x_i are the independent varaiables and y is the dependent variable."
   ]
  },
  {
   "cell_type": "code",
   "execution_count": 2,
   "metadata": {},
   "outputs": [],
   "source": [
    "import numpy as np\n",
    "import matplotlib.pyplot as plt\n"
   ]
  },
  {
   "cell_type": "code",
   "execution_count": 3,
   "metadata": {},
   "outputs": [
    {
     "name": "stdout",
     "output_type": "stream",
     "text": [
      "[[ 1. 44. 47. 64.]\n",
      " [ 1. 67. 67.  9.]\n",
      " [ 1. 83. 21. 36.]\n",
      " [ 1. 87. 70. 88.]\n",
      " [ 1. 88. 12. 58.]]\n"
     ]
    }
   ],
   "source": [
    "# Generate random values for x_1, x_2,...,x_p.\n",
    "\n",
    "# Set random seed.\n",
    "np.random.seed(0)\n",
    "\n",
    "p = 3 # Number of variables.\n",
    "\n",
    "#n = 100 # Number of points.\n",
    "\n",
    "n = 5\n",
    "\n",
    "x_max = 100 # x values assumed to be between 0 and  x_max.\n",
    "\n",
    "X =np.zeros((n,p+1)) # Note the extra column for x_0 (these are to be all set to 1.0).\n",
    "                    # This is known as the augmented matrix.\n",
    "\n",
    "# print(X)\n",
    "\n",
    "#for i in range(p+1):\n",
    "#    for j in range(n):\n",
    "#        print(X[i,j])\n",
    "\n",
    "from numpy import random\n",
    "\n",
    "for i in range(n):\n",
    "    X[i,0] = 1.0\n",
    "\n",
    "for i in range(n):\n",
    "    for j in range(1,p+1):\n",
    "        X[i,j] = random.randint(0, x_max+1, size=1)\n",
    "\n",
    "print(X)"
   ]
  },
  {
   "cell_type": "code",
   "execution_count": 4,
   "metadata": {},
   "outputs": [],
   "source": [
    "# Generate some y values using the x values from X.\n",
    "# Using the formula y = a_0+a_1*x_1 + a_2*x_2 +...+a_p*x_p + random.\n",
    "# i.e. linear part plus random part."
   ]
  },
  {
   "cell_type": "code",
   "execution_count": 5,
   "metadata": {},
   "outputs": [
    {
     "name": "stdout",
     "output_type": "stream",
     "text": [
      "[-9 -4 -3  4]\n"
     ]
    }
   ],
   "source": [
    "\n",
    "# Generate the a_i randomly.\n",
    "\n",
    "low = -10\n",
    "high = 10\n",
    "a = random.randint(low, high+1, size=p+1) # p+1 random integers in range [low, high].\n",
    "\n",
    "print(a)\n"
   ]
  },
  {
   "cell_type": "code",
   "execution_count": 6,
   "metadata": {},
   "outputs": [
    {
     "name": "stdout",
     "output_type": "stream",
     "text": [
      "[ 1.36089122  8.51193277 -8.57927884 -8.25741401 -9.59563205]\n",
      "[ -68.63910878 -433.48806723 -268.57927884 -223.25741401 -174.59563205]\n"
     ]
    }
   ],
   "source": [
    "# Generate the y values.\n",
    "rand_max = 10\n",
    "rand_array = np.random.rand(n) # n random floating point numbers between 0 and 1.\n",
    "rand_array = rand_max*(2*rand_array -1)  # n random floating point numbers between -rand_max and rand_max.\n",
    "print(rand_array)\n",
    "\n",
    "y = np.dot(X, a) + rand_array\n",
    "print(y)"
   ]
  },
  {
   "cell_type": "code",
   "execution_count": 7,
   "metadata": {},
   "outputs": [
    {
     "name": "stdout",
     "output_type": "stream",
     "text": [
      "[ 4.70180108 -4.20924184 -2.86117677  3.85104742]\n"
     ]
    }
   ],
   "source": [
    "# Calculate the least squares best estimates for the intercept and coefficients.\n",
    "\n",
    "XtX = np.dot(np.transpose(X), X)\n",
    "XtXinv = np.linalg.inv(XtX)\n",
    "a_est = np.dot(np.dot(XtXinv, np.transpose(X)), y) \n",
    "\n",
    "print(a_est)"
   ]
  },
  {
   "cell_type": "markdown",
   "metadata": {},
   "source": [
    "# Perform Multiple Linear Regression using the Scikit-learn Library"
   ]
  },
  {
   "cell_type": "code",
   "execution_count": 8,
   "metadata": {},
   "outputs": [
    {
     "name": "stdout",
     "output_type": "stream",
     "text": [
      "coeff_estimates = [-4.20924184 -2.86117677  3.85104742]\n",
      "intercept_estimate = 4.701801082120369\n"
     ]
    }
   ],
   "source": [
    "from sklearn.linear_model import LinearRegression\n",
    "\n",
    "X = X[:,1:] # Strip the constant 1.0 values from the augmented matrix.\n",
    "            # The sklearn model does not require these.\n",
    "\n",
    "multireg = LinearRegression().fit(X, y)\n",
    "\n",
    "coeff_estimates  = multireg.coef_\n",
    "\n",
    "intercept_estimate = multireg.intercept_\n",
    "\n",
    "print('coeff_estimates =', coeff_estimates)\n",
    "print('intercept_estimate =', intercept_estimate)"
   ]
  },
  {
   "cell_type": "code",
   "execution_count": null,
   "metadata": {},
   "outputs": [],
   "source": []
  }
 ],
 "metadata": {
  "kernelspec": {
   "display_name": "Python 3",
   "language": "python",
   "name": "python3"
  },
  "language_info": {
   "codemirror_mode": {
    "name": "ipython",
    "version": 3
   },
   "file_extension": ".py",
   "mimetype": "text/x-python",
   "name": "python",
   "nbconvert_exporter": "python",
   "pygments_lexer": "ipython3",
   "version": "3.8.5"
  }
 },
 "nbformat": 4,
 "nbformat_minor": 4
}
