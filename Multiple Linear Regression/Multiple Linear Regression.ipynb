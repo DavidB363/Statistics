{
 "cells": [
  {
   "cell_type": "markdown",
   "metadata": {},
   "source": [
    "# David Brookes\n",
    "# February 2022"
   ]
  },
  {
   "cell_type": "markdown",
   "metadata": {},
   "source": [
    "# Multiple Linear Regression"
   ]
  },
  {
   "cell_type": "code",
   "execution_count": 1,
   "metadata": {},
   "outputs": [],
   "source": [
    "# Determines the best linear relationship between variables y and x_1, x_2,..., x_p.\n",
    "# in the least squares sense.\n",
    "# Assume x_i are the independent varaiables and y is the dependent variable."
   ]
  },
  {
   "cell_type": "code",
   "execution_count": 2,
   "metadata": {},
   "outputs": [],
   "source": [
    "import numpy as np\n",
    "import matplotlib.pyplot as plt\n"
   ]
  },
  {
   "cell_type": "code",
   "execution_count": 3,
   "metadata": {},
   "outputs": [
    {
     "name": "stdout",
     "output_type": "stream",
     "text": [
      "[[ 1.          1.          1.          1.          1.        ]\n",
      " [17.86083352 96.11086766 28.95695437  6.01527063 37.12080666]\n",
      " [76.05593962 87.14726569  9.29784717 86.8104807   8.03097301]\n",
      " [24.37657642 66.37185172 33.71813765 41.71055606 70.69892231]]\n"
     ]
    }
   ],
   "source": [
    "# Generate random values for x_1, x_2,...,x_p.\n",
    "\n",
    "p = 3 # Number of variables.\n",
    "\n",
    "#n = 100 # Number of points.\n",
    "\n",
    "n = 5\n",
    "\n",
    "x_max = 100 # x values assumed to be between 0 and  x_max.\n",
    "\n",
    "X =np.zeros((p+1,n)) # Note the extra column for x_0 (these are to be all set to 1.0).\n",
    "\n",
    "# print(X)\n",
    "\n",
    "#for i in range(p+1):\n",
    "#    for j in range(n):\n",
    "#        print(X[i,j])\n",
    "\n",
    "from numpy import random\n",
    "\n",
    "for j in range(n):\n",
    "    X[0,j] = 1.0\n",
    "\n",
    "for i in range(1,p+1):\n",
    "    for j in range(n):\n",
    "        X[i,j] = x_max*random.rand()\n",
    "\n",
    "print(X)"
   ]
  },
  {
   "cell_type": "code",
   "execution_count": 4,
   "metadata": {},
   "outputs": [],
   "source": [
    "# Generate some y values using the x values from X.\n",
    "# Using the formula y = a_0+a_1*x_1 + a_2*x_2 +...+a_p*x_p + random.\n",
    "# i.e. linear part plus random part."
   ]
  },
  {
   "cell_type": "code",
   "execution_count": 6,
   "metadata": {},
   "outputs": [
    {
     "name": "stdout",
     "output_type": "stream",
     "text": [
      "[ 0.35283173  0.98454816 -0.19894096  0.1749302 ]\n"
     ]
    }
   ],
   "source": [
    "y =np.zeros(n)\n",
    "\n",
    "# Generate the a_i randomly.\n",
    "#a = np.zeros(p+1)\n",
    "\n",
    "a = random.rand(p+1) # p+1 random numbers between 0 and 1.\n",
    "a = 2*a - 1 # p+1 random numbers between -1 and 1.\n",
    "\n",
    "print(a)\n",
    "\n",
    "#for i in range(n):\n",
    "#    y_val = 0.0\n",
    "#    for j in range(1,p+1):\n",
    "#        y_val+= \n",
    "        "
   ]
  },
  {
   "cell_type": "code",
   "execution_count": null,
   "metadata": {},
   "outputs": [],
   "source": []
  }
 ],
 "metadata": {
  "kernelspec": {
   "display_name": "Python 3",
   "language": "python",
   "name": "python3"
  },
  "language_info": {
   "codemirror_mode": {
    "name": "ipython",
    "version": 3
   },
   "file_extension": ".py",
   "mimetype": "text/x-python",
   "name": "python",
   "nbconvert_exporter": "python",
   "pygments_lexer": "ipython3",
   "version": "3.8.5"
  }
 },
 "nbformat": 4,
 "nbformat_minor": 4
}
