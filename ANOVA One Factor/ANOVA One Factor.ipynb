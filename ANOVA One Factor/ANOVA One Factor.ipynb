{
 "cells": [
  {
   "cell_type": "markdown",
   "metadata": {},
   "source": [
    "# David Brookes\n",
    "# April 2022"
   ]
  },
  {
   "cell_type": "markdown",
   "metadata": {},
   "source": [
    "# One Factor ANOVA (Analysis of Variance)"
   ]
  },
  {
   "cell_type": "markdown",
   "metadata": {},
   "source": [
    "# Task achieved using:\n",
    "# 1. Simple python commands\n",
    "# 2. Library software"
   ]
  },
  {
   "cell_type": "markdown",
   "metadata": {},
   "source": [
    "In many situations there is a need to test the significance of differences among three or more sampling means, or equivalently to test the null hypothesis that the sample means are all equal. \n",
    "This is where the Analysis of Variance technique can be used.\n",
    "\n",
    "In a one-factor experiment, measurements or observations are obtained for a independent groups of \n",
    "samples, where the number of measurements in each group is b. We speak of a treatments, each of which\n",
    "has b repetitions or replications.\n",
    "\n",
    "Note that the independent variable is the factor - a categorical variable, whose values are the groups (e.g. A, B, C). \n",
    "The dependent variable is the continuous variable which takes on the values of the measurements in each group."
   ]
  },
  {
   "cell_type": "markdown",
   "metadata": {},
   "source": [
    "Example: The yield in bushels per acre of a certain variety of wheat grown in a particular \n",
    "    type of soil treated with chemicals A, B, or C is given in the numpy array x.\n",
    "    Note that a=3 and b=4 in this case."
   ]
  },
  {
   "cell_type": "code",
   "execution_count": 1,
   "metadata": {},
   "outputs": [],
   "source": [
    "import numpy as np"
   ]
  },
  {
   "cell_type": "code",
   "execution_count": 2,
   "metadata": {},
   "outputs": [
    {
     "name": "stdout",
     "output_type": "stream",
     "text": [
      "[[48 49 50 49]\n",
      " [47 49 48 48]\n",
      " [49 51 50 50]]\n"
     ]
    }
   ],
   "source": [
    "x = np.array([[48, 49, 50, 49], [47, 49, 48, 48], [49, 51, 50, 50]]) \n",
    "print(x)"
   ]
  },
  {
   "cell_type": "code",
   "execution_count": 3,
   "metadata": {},
   "outputs": [
    {
     "name": "stdout",
     "output_type": "stream",
     "text": [
      "(3, 4)\n"
     ]
    }
   ],
   "source": [
    "a, b = x.shape\n",
    "\n",
    "print((a,b))"
   ]
  },
  {
   "cell_type": "code",
   "execution_count": 4,
   "metadata": {},
   "outputs": [
    {
     "name": "stdout",
     "output_type": "stream",
     "text": [
      "[49. 48. 50.]\n"
     ]
    }
   ],
   "source": [
    "# Find the treatment (row) means.\n",
    "\n",
    "x_row_mean = np.mean(x, axis=1)\n",
    "print(x_row_mean)"
   ]
  },
  {
   "cell_type": "code",
   "execution_count": 5,
   "metadata": {},
   "outputs": [
    {
     "name": "stdout",
     "output_type": "stream",
     "text": [
      "49.0\n"
     ]
    }
   ],
   "source": [
    "# Find the grand mean.\n",
    "\n",
    "x_grand_mean = np.mean(x)\n",
    "print(x_grand_mean)"
   ]
  },
  {
   "cell_type": "code",
   "execution_count": 6,
   "metadata": {},
   "outputs": [
    {
     "name": "stdout",
     "output_type": "stream",
     "text": [
      "14.0\n"
     ]
    }
   ],
   "source": [
    "# Find the total variation.\n",
    "# (Using the efficient numpy array iterator np.nditer).\n",
    "v = 0.0\n",
    "for el in np.nditer(x):\n",
    "    v += (el-x_grand_mean)**2\n",
    "print(v)\n",
    "     "
   ]
  },
  {
   "cell_type": "code",
   "execution_count": 7,
   "metadata": {},
   "outputs": [
    {
     "name": "stdout",
     "output_type": "stream",
     "text": [
      "8.0\n"
     ]
    }
   ],
   "source": [
    "# Find the variation between treatments (rows).\n",
    "# (Using the efficient numpy array iterator np.nditer).\n",
    "v_b = 0.0\n",
    "for el in np.nditer(x_row_mean):\n",
    "    v_b += (el-x_grand_mean)**2\n",
    "v_b *= b\n",
    "print(v_b)"
   ]
  },
  {
   "cell_type": "code",
   "execution_count": 8,
   "metadata": {},
   "outputs": [
    {
     "name": "stdout",
     "output_type": "stream",
     "text": [
      "6.0\n"
     ]
    }
   ],
   "source": [
    "# Find the variation within treatments (rows).\n",
    "# (Using the efficient numpy array iterator np.nditer).\n",
    "# numpy arrays x and x__row_mean can be iterated simultaneously.\n",
    "\n",
    "v_w = 0.0\n",
    "for el, m in np.nditer([x, x_row_mean.reshape(a,1)]):\n",
    "    v_w += (el-m)**2\n",
    "\n",
    "print(v_w)"
   ]
  },
  {
   "cell_type": "code",
   "execution_count": 9,
   "metadata": {},
   "outputs": [
    {
     "name": "stdout",
     "output_type": "stream",
     "text": [
      "6.0\n"
     ]
    }
   ],
   "source": [
    "# A quick way to work out the variation within treatments is as follows.\n",
    "# (This acts as a check for the above calculation)\n",
    "\n",
    "v_w = v - v_b\n",
    "print(v_w)"
   ]
  },
  {
   "cell_type": "code",
   "execution_count": 10,
   "metadata": {},
   "outputs": [
    {
     "name": "stdout",
     "output_type": "stream",
     "text": [
      "4.0\n"
     ]
    }
   ],
   "source": [
    "# Find an unbiased estimate of the population variance using: \n",
    "# the variation between treatments under the null hypothesis of equal treatment means.\n",
    "\n",
    "var_b = v_b/(a-1)\n",
    "print(var_b)"
   ]
  },
  {
   "cell_type": "code",
   "execution_count": 11,
   "metadata": {},
   "outputs": [
    {
     "name": "stdout",
     "output_type": "stream",
     "text": [
      "0.6666666666666666\n"
     ]
    }
   ],
   "source": [
    "# Find an unbiased estimate of the population variance using:\n",
    "# the variation within treatments.\n",
    "#\n",
    "# Note that this is the best estimate of the variance regardless of\n",
    "# whether the null hypothesis is true or not.\n",
    "\n",
    "var_w = v_w/(a*(b-1))\n",
    "print(var_w)"
   ]
  },
  {
   "cell_type": "code",
   "execution_count": 12,
   "metadata": {},
   "outputs": [
    {
     "name": "stdout",
     "output_type": "stream",
     "text": [
      "6.0\n"
     ]
    }
   ],
   "source": [
    "# Under the null hypothesis of equal tretment means the statistic\n",
    "# var_b/var_w has an F distribution with (a-1), a(b-1) degrees of freedom. \n",
    "# This provides a test for the null hyothesis.\n",
    "\n",
    "F = var_b/var_w\n",
    "\n",
    "print(F)"
   ]
  },
  {
   "cell_type": "code",
   "execution_count": 13,
   "metadata": {},
   "outputs": [
    {
     "name": "stdout",
     "output_type": "stream",
     "text": [
      "p_value =  0.022085359153413697\n"
     ]
    }
   ],
   "source": [
    "# To find the p value it is necessary to calculate areas\n",
    "# under the F distribution curve.\n",
    "# I'm going to use the SciPy library here to save time,\n",
    "# rather performing numerical integration!\n",
    "\n",
    "from scipy.stats import f\n",
    "f_stat = F\n",
    "dof1 = a - 1\n",
    "dof2 = a*(b-1)\n",
    "\n",
    "# p-value for 1-sided test\n",
    "print('p_value = ', 1 - f.cdf(abs(f_stat), dof1, dof2))"
   ]
  },
  {
   "cell_type": "code",
   "execution_count": 14,
   "metadata": {},
   "outputs": [
    {
     "name": "stdout",
     "output_type": "stream",
     "text": [
      "4.25649472909375\n",
      "8.021517309932058\n"
     ]
    }
   ],
   "source": [
    "# Note the 95% point is given by:\n",
    "f_95 = f.ppf(0.95, dof1, dof2)\n",
    "print(f_95)\n",
    "\n",
    "# ... and the 99% point is given by:\n",
    "f_99 = f.ppf(0.99, dof1, dof2)\n",
    "print(f_99)"
   ]
  },
  {
   "cell_type": "markdown",
   "metadata": {},
   "source": [
    "# Performing ANOVA One Factor Test with SciPy.stats Library"
   ]
  },
  {
   "cell_type": "code",
   "execution_count": 15,
   "metadata": {},
   "outputs": [
    {
     "name": "stdout",
     "output_type": "stream",
     "text": [
      "The F-statistic is 6.000000 and the p-value is 0.022085.\n"
     ]
    }
   ],
   "source": [
    "\n",
    "from scipy import stats\n",
    "results = stats.f_oneway(*x)\n",
    "# Note that *x is equivalent to x[0], x[1], x[2]... i.e. the rows of x.\n",
    "\n",
    "print(\"The F-statistic is %.6f and the p-value is %.6f.\" % results)"
   ]
  }
 ],
 "metadata": {
  "kernelspec": {
   "display_name": "Python 3",
   "language": "python",
   "name": "python3"
  },
  "language_info": {
   "codemirror_mode": {
    "name": "ipython",
    "version": 3
   },
   "file_extension": ".py",
   "mimetype": "text/x-python",
   "name": "python",
   "nbconvert_exporter": "python",
   "pygments_lexer": "ipython3",
   "version": "3.8.5"
  }
 },
 "nbformat": 4,
 "nbformat_minor": 4
}
